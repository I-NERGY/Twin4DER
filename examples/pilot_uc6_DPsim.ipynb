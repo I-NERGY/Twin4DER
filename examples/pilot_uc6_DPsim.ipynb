{
 "cells": [
  {
   "cell_type": "markdown",
   "id": "ac2d4688-2fd1-43de-96c7-123cdea73dd3",
   "metadata": {},
   "source": [
    "# Network Topology\n",
    "## UC6: Digital Twin for DER\n",
    "![Network Topology](../network_model/topology_UC6_meters_v9.png)"
   ]
  },
  {
   "cell_type": "markdown",
   "id": "36b2156a-8e13-4bc2-83a8-bf44a4c36ff7",
   "metadata": {},
   "source": [
    "# Import the required dependencies"
   ]
  },
  {
   "cell_type": "code",
   "execution_count": null,
   "id": "a844fefc-3f04-4d4f-8fae-b741e4607252",
   "metadata": {},
   "outputs": [],
   "source": [
    "import pandas as pd\n",
    "import numpy as np\n",
    "import os\n",
    "import sys\n",
    "import dpsimpy\n",
    "from dpsim import matpower"
   ]
  },
  {
   "cell_type": "markdown",
   "id": "e9be4b1b-8aa9-4a50-866e-0a13fad95bd9",
   "metadata": {},
   "source": [
    "## Convert MATPOWER format to DPsim format"
   ]
  },
  {
   "cell_type": "code",
   "execution_count": null,
   "id": "5f6bc46d-dabc-427f-9324-983deadb061c",
   "metadata": {},
   "outputs": [],
   "source": [
    "# Reader(mpc_file_path): mpc_file_path is relative to the Notebook dir\n",
    "mpc_reader = matpower.Reader('../network_model/load_flow_pilot_district_mpc_struct.mat', 'mpc')\n",
    "system = mpc_reader.load_mpc()"
   ]
  },
  {
   "cell_type": "code",
   "execution_count": null,
   "id": "afbd804a-88b0-4115-bd32-bd5ef04a6b99",
   "metadata": {},
   "outputs": [],
   "source": [
    "# Plot DPsim model\n",
    "system"
   ]
  },
  {
   "cell_type": "markdown",
   "id": "25b47b13-92d6-40bd-8524-5f9552011cc2",
   "metadata": {},
   "source": [
    "# Read injection data"
   ]
  },
  {
   "cell_type": "code",
   "execution_count": null,
   "id": "b8a06659-e3e7-4eb4-a763-56984dc71ff6",
   "metadata": {},
   "outputs": [],
   "source": [
    "import scipy.io\n",
    "injections_mat = '../network_model/load_flow_pilot_injections_data.mat'\n",
    "injections_raw = scipy.io.loadmat(injections_mat)\n",
    "injections_data = pd.DataFrame(injections_raw['data'])\n",
    "injections_data.columns = [\"Pinj\", \"Qinj\"]\n",
    "injections_data=injections_data*1e6\n",
    "injections_data"
   ]
  },
  {
   "cell_type": "markdown",
   "id": "9967e1f6-1a24-4e9c-8886-a63471ec2413",
   "metadata": {},
   "source": [
    "## Set up and run DPsim simulation"
   ]
  },
  {
   "cell_type": "code",
   "execution_count": null,
   "id": "b69a80ba-bca2-4c76-b4fc-03b91f25f1fc",
   "metadata": {},
   "outputs": [],
   "source": [
    "import cmath\n",
    "\n",
    "sim_name = 'pilot_uc6'\n",
    "dpsimpy.Logger.set_log_dir('logs/' + sim_name)\n",
    "logger = dpsimpy.Logger(sim_name)\n",
    "\n",
    "for node in system.nodes:\n",
    "    logger.log_attribute(node.name()+'.V', 'v', node)\n",
    "    logger.log_attribute(node.name()+'.S', 's', node)\n",
    "    \n",
    "# Parametrize and run simulation\n",
    "sim = dpsimpy.Simulation(sim_name, dpsimpy.LogLevel.info)\n",
    "sim.set_system(system)\n",
    "sim.set_time_step(1)\n",
    "sim.set_final_time(1)\n",
    "sim.set_domain(dpsimpy.Domain.SP)\n",
    "sim.set_solver(dpsimpy.Solver.NRP)\n",
    "sim.do_init_from_nodes_and_terminals(False)\n",
    "\n",
    "# In bus 3\n",
    "sim.get_idobj_attr('load2', 'P').set(injections_data['Pinj'][2])\n",
    "sim.get_idobj_attr('load2', 'Q').set(injections_data['Qinj'][2])\n",
    "\n",
    "sim.get_idobj_attr('load3', 'P').set(injections_data['Pinj'][3])\n",
    "sim.get_idobj_attr('load3', 'Q').set(injections_data['Qinj'][3])\n",
    "\n",
    "sim.get_idobj_attr('load4', 'P').set(injections_data['Pinj'][4])\n",
    "sim.get_idobj_attr('load4', 'Q').set(injections_data['Qinj'][4])\n",
    "\n",
    "sim.add_logger(logger)\n",
    "sim.run()\n"
   ]
  },
  {
   "cell_type": "markdown",
   "id": "2d176846-d765-4dc9-be6f-c3a802930f35",
   "metadata": {},
   "source": [
    "# Read and display DPsim simulation results"
   ]
  },
  {
   "cell_type": "code",
   "execution_count": null,
   "id": "f3cf7824-18b6-44e9-be5e-5141cf73cc34",
   "metadata": {},
   "outputs": [],
   "source": [
    "import villas.dataprocessing.readtools as rt\n",
    "from villas.dataprocessing.timeseries import TimeSeries as ts\n",
    "\n",
    "log_file = 'logs/' + sim_name +'/' + sim_name + '.csv'\n",
    "print(log_file)\n",
    "ts_dpsimpy = rt.read_timeseries_dpsim(log_file)\n",
    "results = pd.DataFrame(columns=['Bus', 'V_mag(pu)', 'V_angle(deg)', 'P(MW)', 'Q (MVAr)'])\n",
    "\n",
    "for i in range(len(system.nodes)):\n",
    "    node = system.nodes[i].name()\n",
    "    node_baseV = mpc_reader.mpc_bus_data.loc[mpc_reader.mpc_bus_data['bus_i'] ==  int(node[1:]), 'baseKV'].iloc[0] * 1e3\n",
    "    w_mw = 1e-6\n",
    "    results.loc[i] = ([node] + [np.absolute(ts_dpsimpy[node + '.V'].values[-1]) / node_baseV]\n",
    "        + [np.degrees(np.angle(ts_dpsimpy[node + '.V'].values[-1]))] \n",
    "        + [w_mw * np.real(ts_dpsimpy[node + '.S'].values[-1])] \n",
    "        + [w_mw * np.imag(ts_dpsimpy[node + '.S'].values[-1])])\n",
    "    \n",
    "results"
   ]
  },
  {
   "cell_type": "markdown",
   "id": "ba122c43-1df9-4956-aa6c-3451d2fd0f56",
   "metadata": {},
   "source": [
    "# Validation: read and display MATPOWER results"
   ]
  },
  {
   "cell_type": "code",
   "execution_count": null,
   "id": "6ab2b7ce-6cf1-4e18-ad7b-7e160caf5fea",
   "metadata": {},
   "outputs": [],
   "source": [
    "input_mat = '../validation/load_flow_pilot_district_power_flow_results.mat'\n",
    "data = scipy.io.loadmat(input_mat)"
   ]
  },
  {
   "cell_type": "code",
   "execution_count": null,
   "id": "e1765469-0310-4b4e-8766-8dd9abd95845",
   "metadata": {},
   "outputs": [],
   "source": [
    "bus_data = pd.DataFrame(data['results'][0][0]['bus'])\n",
    "bus_data.columns = [\"bus_i\", \"type\", \"Pd\", \"Qd\", \"Gs\", \"Bs\", \"area\", \"Vm\", \"Va\", \"baseKV\", \"zone\", \"Vmax\", \"Vmin\"]\n",
    "\n",
    "bus_data"
   ]
  },
  {
   "cell_type": "markdown",
   "id": "78f807b0-8ae9-47c1-915a-e6ff310e55b0",
   "metadata": {},
   "source": [
    "# Compare DPsim & MATPOWER results"
   ]
  },
  {
   "cell_type": "code",
   "execution_count": null,
   "id": "8d0e183a-5562-4ef1-be9d-f757c3096ca9",
   "metadata": {},
   "outputs": [],
   "source": [
    "# assert will trigger an error if the condition is not met\n",
    "try:\n",
    "    assert all(bus_data['Vm'] - results['V_mag(pu)'] < 0.001)\n",
    "    assert all(bus_data['Va'] - results['V_angle(deg)'] < 0.05)\n",
    "    print (\"All test were succesfull\")\n",
    "except:\n",
    "    print (\"Some test results are incorrect\")"
   ]
  }
 ],
 "metadata": {
  "kernelspec": {
   "display_name": "Python 3 (ipykernel)",
   "language": "python",
   "name": "python3"
  },
  "language_info": {
   "codemirror_mode": {
    "name": "ipython",
    "version": 3
   },
   "file_extension": ".py",
   "mimetype": "text/x-python",
   "name": "python",
   "nbconvert_exporter": "python",
   "pygments_lexer": "ipython3",
   "version": "3.10.11"
  },
  "vscode": {
   "interpreter": {
    "hash": "767d51c1340bd893661ea55ea3124f6de3c7a262a8b4abca0554b478b1e2ff90"
   }
  }
 },
 "nbformat": 4,
 "nbformat_minor": 5
}
