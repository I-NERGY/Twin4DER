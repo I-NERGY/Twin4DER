{
 "cells": [
  {
   "cell_type": "markdown",
   "metadata": {},
   "source": [
    "# Minimal database interaction example using PyMongo"
   ]
  },
  {
   "cell_type": "markdown",
   "metadata": {},
   "source": [
    "## Load credentials and sensitive data"
   ]
  },
  {
   "cell_type": "code",
   "execution_count": null,
   "metadata": {},
   "outputs": [],
   "source": [
    "import json\n",
    "# Opening JSON file\n",
    "with open('../credentials/credentials.json', 'r') as openfile:\n",
    "    # Reading from json file\n",
    "    credentials = json.load(openfile)"
   ]
  },
  {
   "cell_type": "markdown",
   "metadata": {},
   "source": [
    "# Configure the connection to the database and set the collections"
   ]
  },
  {
   "cell_type": "code",
   "execution_count": null,
   "metadata": {},
   "outputs": [],
   "source": [
    "import pymongo\n",
    "import sys\n",
    "from pymongo import MongoClient\n",
    "import pandas as pd"
   ]
  },
  {
   "cell_type": "code",
   "execution_count": null,
   "metadata": {},
   "outputs": [],
   "source": [
    "db = MongoClient(credentials['pymongo_url'], \n",
    "                    credentials['pymongo_port'], \n",
    "                     username=credentials['pymongo_username'],\n",
    "                     password=credentials['pymongo_password']).get_database(credentials['pymongo_database_name'])"
   ]
  },
  {
   "cell_type": "code",
   "execution_count": null,
   "metadata": {},
   "outputs": [],
   "source": [
    "current_collection = eval(credentials['meter_current_name'])\n",
    "power_collection = eval(credentials['meter_power_name'])\n",
    "voltage_collection = eval(credentials['meter_voltage_name'])"
   ]
  },
  {
   "cell_type": "markdown",
   "metadata": {},
   "source": [
    "# Query to select dates to calculate the circuit results"
   ]
  },
  {
   "cell_type": "code",
   "execution_count": null,
   "metadata": {},
   "outputs": [],
   "source": [
    "import datetime\n",
    "import ipywidgets as widgets\n",
    "from ipywidgets import Layout, Box, Dropdown, Label\n",
    "\n",
    "\n",
    "# available dates in collection:\n",
    "power_collection_dates=sorted(power_collection.distinct(\"date\"), key=lambda x: datetime.datetime.strptime(x, \"%Y-%m-%d\"))\n",
    "power_collection_meters=sorted(power_collection.distinct(\"id\"))\n",
    "\n",
    "start_date_selection= widgets.Select(\n",
    "                                        options= power_collection_dates,\n",
    "                                        value='2021-10-25',\n",
    "                                        # rows=10,\n",
    "                                        description='start date:',\n",
    "                                        disabled=False\n",
    "                                    )\n",
    "\n",
    "display(start_date_selection)\n",
    "\n",
    "end_date_selection= widgets.Select(\n",
    "                                        options= power_collection_dates,\n",
    "                                        value='2021-10-31',\n",
    "                                        # rows=10,\n",
    "                                        description='end date:',\n",
    "                                        disabled=False\n",
    "                                    )\n",
    "\n",
    "display(end_date_selection)"
   ]
  },
  {
   "cell_type": "markdown",
   "metadata": {},
   "source": [
    "## Get data for the selected timeframe"
   ]
  },
  {
   "cell_type": "code",
   "execution_count": null,
   "metadata": {},
   "outputs": [],
   "source": [
    "user_requested_timestamps= pd.date_range(start_date_selection.value, end_date_selection.value, freq='5Min').tolist()\n",
    "user_query = { \"date\": { \"$gte\": start_date_selection.value , \"$lte\": end_date_selection.value}}\n",
    "user_query_power_df = pd.DataFrame(power_collection.find(user_query))\n",
    "user_query_power_df"
   ]
  },
  {
   "cell_type": "markdown",
   "metadata": {},
   "source": [
    "## Process the retrieved data"
   ]
  },
  {
   "cell_type": "code",
   "execution_count": null,
   "metadata": {},
   "outputs": [],
   "source": [
    "db_columns=list(user_query_power_df.columns.values)\n",
    "time_format = \"%H:%M:%S\"\n",
    "db_times=[]\n",
    "db_colums_withoutTime=[]\n",
    "for col in db_columns:\n",
    "    try:\n",
    "        db_times.append(datetime.datetime.strptime(col, time_format).time())\n",
    "        # print(f\"{col} is the correct date string format.\")\n",
    "    except ValueError:\n",
    "        db_colums_withoutTime.append(col)\n",
    "        # print(f\"{i} is the incorrect date string format.\")\n",
    "\n",
    "header=[times.strftime(\"%H:%M:%S\") for times in db_times]\n",
    "# header.insert(0,'date')\n",
    "\n",
    "melted_df=pd.melt(user_query_power_df, id_vars=['date', 'id', 'power_type'], value_vars=header, var_name='time', value_name='power')\n",
    "# user_query_power_df[user_query_power_df['power_type']=='positive_active'][header]\n",
    "pivoted_df=pd.pivot_table(melted_df, values='power', columns='power_type', index=['date', 'time', 'id'])\\\n",
    "            .reset_index()\n",
    "pivoted_df.columns.name=None\n",
    "pivoted_df.insert(loc=0, column='datetime', value=pd.to_datetime(pivoted_df['date'] + ' ' + pivoted_df['time'], format=\"%Y-%m-%d %H:%M:%S\"))\n",
    "processed_power_df=pivoted_df.dropna()\n",
    "processed_power_df"
   ]
  },
  {
   "cell_type": "markdown",
   "metadata": {},
   "source": [
    "## Filter data corresponding to one of the measurement devices"
   ]
  },
  {
   "cell_type": "code",
   "execution_count": null,
   "metadata": {},
   "outputs": [],
   "source": [
    "procesed_power_df_meas=processed_power_df.query('id==\"W4\"')\n",
    "procesed_power_df_meas"
   ]
  },
  {
   "cell_type": "code",
   "execution_count": null,
   "metadata": {},
   "outputs": [],
   "source": [
    "powerSeries=procesed_power_df_meas[['datetime', 'positive_active']].set_index('datetime')\n",
    "powerSeries15min=powerSeries.resample('15T').mean()\n",
    "powerSeries15min"
   ]
  },
  {
   "cell_type": "code",
   "execution_count": null,
   "metadata": {},
   "outputs": [],
   "source": [
    "import requests\n",
    "from io import StringIO\n",
    "from requests_toolbelt.multipart.encoder import MultipartEncoder\n",
    "\n",
    "# minimum length required for the input time series\n",
    "lookback_window = 672\n",
    "\n",
    "def predict(series, timesteps_ahead, device, power_type, prediction_server_url):\n",
    "    \"\"\"\n",
    "    Function that returns the prediction of the chosen model using the chosen time series.\n",
    "\n",
    "    Parameters\n",
    "    ----------\n",
    "    series\n",
    "        The pandas.DataFrame to be used for prediction. It must follow the format shown above. \n",
    "        Also, it must have at least lookback window timesteps, as the models need to see that\n",
    "        far back into the past in order to make a prediction. In this case, it must be at least 7 days\n",
    "        long (672 timesteps, as we use a resolution of 15 minutes)\n",
    "    timesteps_ahead\n",
    "        The amount of timesteps ahead to be redicted. Prediction starts from the next timestep after the\n",
    "        last one of series. So, as we will perform day ahead forecasting, we need timesteps_ahead=96\n",
    "    power_type\n",
    "        The power type that will be predicted, 4 models have been trained, and their ports are:\n",
    "            - 3041 for lgbm w4 positive reactive\n",
    "            - 3040 for lgbm w4 positive active\n",
    "            - 3045 for lgbm w6 positive active\n",
    "            - 3042 for lgbm w6 positive reactive\n",
    "    prediction_server_url\n",
    "        The url of the server that hosts the prediction service.\n",
    "    Returns\n",
    "    -------\n",
    "    pandas.DataFrame\n",
    "        The result of the prediction\n",
    "    \"\"\"\n",
    "    port_sel={}\n",
    "    port_sel['W4','active']=3040\n",
    "    port_sel['W4','reactive']=3041\n",
    "    port_sel['W6','active']=3045\n",
    "    port_sel['W6','reactive']=3042\n",
    "    port=port_sel[device,power_type]\n",
    "    \n",
    "    #print(\"Input dataframe:\", series)\n",
    "\n",
    "    #print (\"Port : \", port)\n",
    "    \n",
    "    # check length\n",
    "    if len(series) < lookback_window:\n",
    "        print(\"Please input a larger historical time series\")\n",
    "        return\n",
    "\n",
    "    series = series.to_json()\n",
    "    input_example = MultipartEncoder(\n",
    "    fields={\"n\": str(timesteps_ahead), #96 timesteps for 15min resolution = day ahead forecast\n",
    "            \"series\": series,\n",
    "           }\n",
    "    )\n",
    "\n",
    "    result = requests.post(\n",
    "        f\"http://{prediction_server_url}:{port}/predict\", data=input_example, headers={\"Content-Type\": input_example.content_type}\n",
    "    ).text\n",
    "\n",
    "    df = pd.read_json(StringIO(result))\n",
    "    return df"
   ]
  },
  {
   "cell_type": "code",
   "execution_count": null,
   "metadata": {},
   "outputs": [],
   "source": [
    "prediction_server_url=credentials['prediction_server_url']"
   ]
  },
  {
   "cell_type": "code",
   "execution_count": null,
   "metadata": {},
   "outputs": [],
   "source": [
    "df_w4_a = predict(powerSeries15min, 96, 'W4','active',prediction_server_url)\n",
    "df_w4_a"
   ]
  },
  {
   "cell_type": "code",
   "execution_count": null,
   "metadata": {},
   "outputs": [],
   "source": [
    "df_w6_a = predict(powerSeries15min, 96, 'W6','active',prediction_server_url)\n",
    "df_w6_a"
   ]
  },
  {
   "cell_type": "code",
   "execution_count": null,
   "metadata": {},
   "outputs": [],
   "source": []
  }
 ],
 "metadata": {
  "kernelspec": {
   "display_name": "Python 3 (ipykernel)",
   "language": "python",
   "name": "python3"
  },
  "language_info": {
   "codemirror_mode": {
    "name": "ipython",
    "version": 3
   },
   "file_extension": ".py",
   "mimetype": "text/x-python",
   "name": "python",
   "nbconvert_exporter": "python",
   "pygments_lexer": "ipython3",
   "version": "3.10.11"
  },
  "vscode": {
   "interpreter": {
    "hash": "767d51c1340bd893661ea55ea3124f6de3c7a262a8b4abca0554b478b1e2ff90"
   }
  }
 },
 "nbformat": 4,
 "nbformat_minor": 4
}
