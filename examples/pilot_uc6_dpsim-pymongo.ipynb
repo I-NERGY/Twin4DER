{
 "cells": [
  {
   "cell_type": "markdown",
   "metadata": {},
   "source": [
    "# Minimal example using the database and DPsim"
   ]
  },
  {
   "cell_type": "markdown",
   "metadata": {},
   "source": [
    "## Load credentials and sensitive data"
   ]
  },
  {
   "cell_type": "code",
   "execution_count": null,
   "metadata": {},
   "outputs": [],
   "source": [
    "import json\n",
    "# Opening JSON file\n",
    "with open('../credentials/credentials.json', 'r') as openfile:\n",
    "    # Reading from json file\n",
    "    credentials = json.load(openfile)"
   ]
  },
  {
   "cell_type": "markdown",
   "metadata": {},
   "source": [
    "## Configure the connection to the database and set the collections"
   ]
  },
  {
   "cell_type": "code",
   "execution_count": null,
   "metadata": {},
   "outputs": [],
   "source": [
    "import pymongo\n",
    "import sys\n",
    "from pymongo import MongoClient\n",
    "import pandas as pd"
   ]
  },
  {
   "cell_type": "code",
   "execution_count": null,
   "metadata": {},
   "outputs": [],
   "source": [
    "db = MongoClient(credentials['pymongo_url'], \n",
    "                    credentials['pymongo_port'], \n",
    "                     username=credentials['pymongo_username'],\n",
    "                     password=credentials['pymongo_password']).get_database(credentials['pymongo_database_name'])"
   ]
  },
  {
   "cell_type": "code",
   "execution_count": null,
   "metadata": {},
   "outputs": [],
   "source": [
    "current_collection = eval(credentials['meter_current_name'])\n",
    "power_collection = eval(credentials['meter_power_name'])\n",
    "voltage_collection = eval(credentials['meter_voltage_name'])"
   ]
  },
  {
   "cell_type": "markdown",
   "metadata": {},
   "source": [
    "## Import dependencies for Simulation"
   ]
  },
  {
   "cell_type": "code",
   "execution_count": null,
   "metadata": {},
   "outputs": [],
   "source": [
    "import pandas as pd\n",
    "import numpy as np\n",
    "import os\n",
    "import sys\n",
    "import dpsimpy\n",
    "from dpsim import matpower\n",
    "import datetime"
   ]
  },
  {
   "cell_type": "markdown",
   "metadata": {},
   "source": [
    "## Read the circuit file"
   ]
  },
  {
   "cell_type": "code",
   "execution_count": null,
   "metadata": {},
   "outputs": [],
   "source": [
    "# List of assets\n",
    "meters_assets_dict={'W0':[], 'W1':[], 'W2':[], 'W3': ['load2'], 'W4': ['load3'], 'W5':['load4'], 'W6': ['load4']}"
   ]
  },
  {
   "cell_type": "code",
   "execution_count": null,
   "metadata": {},
   "outputs": [],
   "source": [
    "# Reader(mpc_file_path): mpc_file_path is relative to the Notebook dir\n",
    "mpc_reader = matpower.Reader('../network_model/load_flow_pilot_district_mpc_struct_insp.mat', 'mpc')\n",
    "system = mpc_reader.load_mpc()"
   ]
  },
  {
   "cell_type": "code",
   "execution_count": null,
   "metadata": {},
   "outputs": [],
   "source": [
    "# Plot DPsim model\n",
    "system"
   ]
  },
  {
   "cell_type": "markdown",
   "metadata": {},
   "source": [
    "# Query to select dates to calculate the circuit results"
   ]
  },
  {
   "cell_type": "code",
   "execution_count": null,
   "metadata": {},
   "outputs": [],
   "source": [
    "import ipywidgets as widgets\n",
    "from ipywidgets import Layout, Box, Dropdown, Label\n",
    "\n",
    "\n",
    "# available dates in collection:\n",
    "power_collection_dates=sorted(power_collection.distinct(\"date\"), key=lambda x: datetime.datetime.strptime(x, \"%Y-%m-%d\"))\n",
    "power_collection_meters=sorted(power_collection.distinct(\"id\"))\n",
    "\n",
    "start_date_selection= widgets.Select(\n",
    "                                        options= power_collection_dates,\n",
    "                                        value='2021-10-25',\n",
    "                                        # rows=10,\n",
    "                                        description='start date:',\n",
    "                                        disabled=False\n",
    "                                    )\n",
    "\n",
    "display(start_date_selection)\n",
    "\n",
    "end_date_selection= widgets.Select(\n",
    "                                        options= power_collection_dates,\n",
    "                                        value='2021-10-31',\n",
    "                                        # rows=10,\n",
    "                                        description='end date:',\n",
    "                                        disabled=False\n",
    "                                    )\n",
    "\n",
    "display(end_date_selection)"
   ]
  },
  {
   "cell_type": "markdown",
   "metadata": {},
   "source": [
    "## Get data for the selected timeframe"
   ]
  },
  {
   "cell_type": "code",
   "execution_count": null,
   "metadata": {},
   "outputs": [],
   "source": [
    "user_requested_timestamps= pd.date_range(start_date_selection.value, end_date_selection.value, freq='5Min').tolist()\n",
    "user_query = { \"date\": { \"$gte\": start_date_selection.value , \"$lte\": end_date_selection.value}}\n",
    "user_query_power_df = pd.DataFrame(power_collection.find(user_query))\n",
    "user_query_power_df"
   ]
  },
  {
   "cell_type": "markdown",
   "metadata": {},
   "source": [
    "## Process the retrieved data"
   ]
  },
  {
   "cell_type": "code",
   "execution_count": null,
   "metadata": {},
   "outputs": [],
   "source": [
    "db_columns=list(user_query_power_df.columns.values)\n",
    "time_format = \"%H:%M:%S\"\n",
    "db_times=[]\n",
    "db_colums_withoutTime=[]\n",
    "for col in db_columns:\n",
    "    try:\n",
    "        db_times.append(datetime.datetime.strptime(col, time_format).time())\n",
    "        # print(f\"{col} is the correct date string format.\")\n",
    "    except ValueError:\n",
    "        db_colums_withoutTime.append(col)\n",
    "        # print(f\"{i} is the incorrect date string format.\")\n",
    "\n",
    "header=[times.strftime(\"%H:%M:%S\") for times in db_times]\n",
    "# header.insert(0,'date')\n",
    "\n",
    "melted_df=pd.melt(user_query_power_df, id_vars=['date', 'id', 'power_type'], value_vars=header, var_name='time', value_name='power')\n",
    "# user_query_power_df[user_query_power_df['power_type']=='positive_active'][header]\n",
    "pivoted_df=pd.pivot_table(melted_df, values='power', columns='power_type', index=['date', 'time', 'id'])\\\n",
    "            .reset_index()\n",
    "pivoted_df.columns.name=None\n",
    "pivoted_df.insert(loc=0, column='datetime', value=pd.to_datetime(pivoted_df['date'] + ' ' + pivoted_df['time'], format=\"%Y-%m-%d %H:%M:%S\"))\n",
    "processed_power_df=pivoted_df.dropna()\n",
    "processed_power_df"
   ]
  },
  {
   "cell_type": "markdown",
   "metadata": {},
   "source": [
    "# Simulation service"
   ]
  },
  {
   "cell_type": "markdown",
   "metadata": {},
   "source": [
    "## Set-up and start simulation with DPsim"
   ]
  },
  {
   "cell_type": "code",
   "execution_count": null,
   "metadata": {},
   "outputs": [],
   "source": [
    "sim_name = 'pilot_uc6'\n",
    "dpsimpy.Logger.set_log_dir('logs/' + sim_name)\n",
    "logger = dpsimpy.Logger(sim_name)\n",
    "\n",
    "for node in system.nodes:\n",
    "    logger.log_attribute(node.name()+'.V', 'v', node)\n",
    "    logger.log_attribute(node.name()+'.S', 's', node)\n",
    "\n",
    "# Parametrize and run simulation\n",
    "sim = dpsimpy.Simulation(sim_name, dpsimpy.LogLevel.info)\n",
    "sim.set_system(system)\n",
    "sim.set_time_step(1)\n",
    "sim.set_final_time(len(user_requested_timestamps))\n",
    "sim.set_domain(dpsimpy.Domain.SP)\n",
    "sim.set_solver(dpsimpy.Solver.NRP)\n",
    "sim.do_init_from_nodes_and_terminals(False)\n",
    "sim.add_logger(logger)\n",
    "sim.start()"
   ]
  },
  {
   "cell_type": "code",
   "execution_count": null,
   "metadata": {},
   "outputs": [],
   "source": [
    "for component in system.components:\n",
    "    print( component.name() )"
   ]
  },
  {
   "cell_type": "markdown",
   "metadata": {},
   "source": [
    "## Helper functions to assign mesurements from the database to the simulator"
   ]
  },
  {
   "cell_type": "code",
   "execution_count": null,
   "metadata": {},
   "outputs": [],
   "source": [
    "def get_meter_values(timestamp, meter):\n",
    "    try:\n",
    "        P= processed_power_df[(processed_power_df['id']==meter) & (processed_power_df['datetime']==timestamp)].iloc[0]['positive_active']\n",
    "        Q= processed_power_df[(processed_power_df['id']==meter) & (processed_power_df['datetime']==timestamp)].iloc[0]['positive_reactive']\n",
    "        return [P,Q]\n",
    "    except:\n",
    "        #print('[', timestamp, ']', '[', meter, ']', 'Warn: no available measurement dropping simulation step')\n",
    "        raise ValueError(\"There is no available measurement in this timestep\")\n",
    "        #return ['nan', 'nan']"
   ]
  },
  {
   "cell_type": "code",
   "execution_count": null,
   "metadata": {},
   "outputs": [],
   "source": [
    "kw_w= 1e3\n",
    "def pq_assign_dpsim(timestamp):\n",
    "    \"\"\"\n",
    "    take pq values of measurements and set the values in the DPSim to the corresponding asset\n",
    "    \"\"\"\n",
    "    for k, v in meters_assets_dict.items():\n",
    "        meter= k\n",
    "        assets= v\n",
    "        \n",
    "        for asset in v:\n",
    "            P_set=0\n",
    "            Q_set =0\n",
    "            [P_meter,Q_meter]=get_meter_values(timestamp, meter)\n",
    "\n",
    "            P_set = P_set + (P_meter/3) # check if power is single or three phase, if RMS or absolute value etc.?\n",
    "            Q_set = Q_set + (Q_meter/3)\n",
    "        \n",
    "            #print('[', timestamp, ']', '[', meter, ']', '[', asset, ']', 'Info: assigning [P,Q] values', P_set, Q_set)\n",
    "\n",
    "            sim.get_idobj_attr(asset, 'P').set(P_set*kw_w)\n",
    "            sim.get_idobj_attr(asset, 'Q').set(Q_set*kw_w)"
   ]
  },
  {
   "cell_type": "markdown",
   "metadata": {},
   "source": [
    "## Main simulation loop"
   ]
  },
  {
   "cell_type": "code",
   "execution_count": null,
   "metadata": {},
   "outputs": [],
   "source": [
    "sim_timesteps=[]\n",
    "for dttm in user_requested_timestamps:\n",
    "        try:\n",
    "            pq_assign_dpsim(dttm)\n",
    "            sim_timesteps.append(dttm.to_pydatetime())\n",
    "            #print (dttm.to_pydatetime())\n",
    "        except ValueError:\n",
    "            pass\n",
    "            #print('[',dttm,'] Current timestep was ignored due to one or more measurements missing')\n",
    "        sim.next()\n",
    "sim.stop()\n",
    "\n"
   ]
  },
  {
   "cell_type": "markdown",
   "metadata": {},
   "source": [
    "# Results"
   ]
  },
  {
   "cell_type": "markdown",
   "metadata": {},
   "source": [
    "## Load file with the results"
   ]
  },
  {
   "cell_type": "code",
   "execution_count": null,
   "metadata": {},
   "outputs": [],
   "source": [
    "from villas.dataprocessing.readtools import *\n",
    "from villas.dataprocessing.timeseries import *\n",
    "\n",
    "path = './logs/pilot_uc6/'\n",
    "logName = 'pilot_uc6';\n",
    "dataType = '.csv';\n",
    "logFilename = path + logName + dataType;\n",
    "ts_dpsim = read_timeseries_dpsim(logFilename)"
   ]
  },
  {
   "cell_type": "markdown",
   "metadata": {},
   "source": [
    "## Enable the selection of the results for the nodes"
   ]
  },
  {
   "cell_type": "code",
   "execution_count": null,
   "metadata": {},
   "outputs": [],
   "source": [
    "list_results_opt=list(ts_dpsim.keys())\n",
    "result_selection= widgets.Select(\n",
    "                                        options= list_results_opt,\n",
    "                                        value= list_results_opt[7],\n",
    "                                        # rows=10,\n",
    "                                        description='result to show:',\n",
    "                                        disabled=False\n",
    "                                    )\n",
    "\n",
    "display(result_selection)\n",
    "\n"
   ]
  },
  {
   "cell_type": "markdown",
   "metadata": {},
   "source": [
    "## Plot the selected result"
   ]
  },
  {
   "cell_type": "code",
   "execution_count": null,
   "metadata": {},
   "outputs": [],
   "source": [
    "import matplotlib.pyplot as plt\n",
    "import matplotlib.dates as mdates\n",
    "#%matplotlib widget\n",
    "X=sim_timesteps\n",
    "\n",
    "result_selection.value\n",
    "fig, axs = plt.subplots(2, 1, figsize=(10, 3), layout='constrained')\n",
    "\n",
    "fig.suptitle(\"Time evolution of \" + result_selection.value)\n",
    "\n",
    "\n",
    "Y=ts_dpsim[result_selection.value].abs().values\n",
    "axs[0].plot(X,Y)\n",
    "axs[0].set_title('Amplitude')\n",
    "axs[0].grid(True)\n",
    "#axs[0].set_ylim(411,412)\n",
    "\n",
    "\n",
    "Y=ts_dpsim[result_selection.value].phase().values\n",
    "axs[1].plot(X,Y)\n",
    "axs[1].grid(True)\n",
    "axs[1].set_title('Angle')\n",
    "\n",
    "\n",
    "axs[1].set_xlabel('Date')\n",
    "axs[0].xaxis.set_major_locator(mdates.DayLocator())\n",
    "axs[0].xaxis.set_minor_locator(mdates.HourLocator(byhour=(0,6,12,18,)))\n",
    "axs[1].xaxis.set_major_locator(mdates.DayLocator())\n",
    "axs[1].xaxis.set_minor_locator(mdates.HourLocator(byhour=(0,6,12,18,)))\n",
    "plt.grid(True)\n",
    "\n",
    "\n",
    "plt.show()\n",
    "\n"
   ]
  },
  {
   "cell_type": "code",
   "execution_count": null,
   "metadata": {},
   "outputs": [],
   "source": []
  }
 ],
 "metadata": {
  "kernelspec": {
   "display_name": "Python 3 (ipykernel)",
   "language": "python",
   "name": "python3"
  },
  "language_info": {
   "codemirror_mode": {
    "name": "ipython",
    "version": 3
   },
   "file_extension": ".py",
   "mimetype": "text/x-python",
   "name": "python",
   "nbconvert_exporter": "python",
   "pygments_lexer": "ipython3",
   "version": "3.10.11"
  },
  "vscode": {
   "interpreter": {
    "hash": "767d51c1340bd893661ea55ea3124f6de3c7a262a8b4abca0554b478b1e2ff90"
   }
  }
 },
 "nbformat": 4,
 "nbformat_minor": 4
}
